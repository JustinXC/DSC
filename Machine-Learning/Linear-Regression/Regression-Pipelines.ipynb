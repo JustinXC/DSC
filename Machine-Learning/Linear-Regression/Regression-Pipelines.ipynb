{
 "cells": [
  {
   "cell_type": "code",
   "execution_count": 1,
   "metadata": {},
   "outputs": [],
   "source": [
    "%matplotlib inline\n",
    "\n",
    "import numpy as np\n",
    "import pandas as pd\n",
    "import matplotlib.pyplot as plt\n",
    "import seaborn as sns\n",
    "\n",
    "import warnings\n",
    "warnings.filterwarnings(\"ignore\")\n",
    "\n",
    "# set defaults\n",
    "plt.style.use('seaborn-white')   # seaborn custom plot style\n",
    "plt.rc('figure', dpi=100, figsize=(7, 5))   # set default size/resolution\n",
    "plt.rc('font', size=12)   # font size"
   ]
  },
  {
   "cell_type": "markdown",
   "metadata": {
    "slideshow": {
     "slide_type": "slide"
    }
   },
   "source": [
    "### The steps of the modeling pipeline\n",
    "\n",
    "1. Create features to best reflect the meaning behind data\n",
    "2. Create model appropriate to capture relationships between features\n",
    "    - e.g. linear, non-linear\n",
    "3. Select a loss function and fit the model (determine $\\hat{\\theta}$).\n",
    "4. Evaluate model (e.g. using RMSE)\n",
    "\n",
    "After these steps, use the model for prediction and/or inference."
   ]
  },
  {
   "cell_type": "code",
   "execution_count": 6,
   "metadata": {},
   "outputs": [
    {
     "data": {
      "text/html": [
       "<div>\n",
       "<style scoped>\n",
       "    .dataframe tbody tr th:only-of-type {\n",
       "        vertical-align: middle;\n",
       "    }\n",
       "\n",
       "    .dataframe tbody tr th {\n",
       "        vertical-align: top;\n",
       "    }\n",
       "\n",
       "    .dataframe thead th {\n",
       "        text-align: right;\n",
       "    }\n",
       "</style>\n",
       "<table border=\"1\" class=\"dataframe\">\n",
       "  <thead>\n",
       "    <tr style=\"text-align: right;\">\n",
       "      <th></th>\n",
       "      <th>total_bill</th>\n",
       "      <th>tip</th>\n",
       "      <th>sex</th>\n",
       "      <th>smoker</th>\n",
       "      <th>day</th>\n",
       "      <th>time</th>\n",
       "      <th>size</th>\n",
       "    </tr>\n",
       "  </thead>\n",
       "  <tbody>\n",
       "    <tr>\n",
       "      <th>0</th>\n",
       "      <td>16.99</td>\n",
       "      <td>1.01</td>\n",
       "      <td>Female</td>\n",
       "      <td>No</td>\n",
       "      <td>Sun</td>\n",
       "      <td>Dinner</td>\n",
       "      <td>2</td>\n",
       "    </tr>\n",
       "    <tr>\n",
       "      <th>1</th>\n",
       "      <td>10.34</td>\n",
       "      <td>1.66</td>\n",
       "      <td>Male</td>\n",
       "      <td>No</td>\n",
       "      <td>Sun</td>\n",
       "      <td>Dinner</td>\n",
       "      <td>3</td>\n",
       "    </tr>\n",
       "    <tr>\n",
       "      <th>2</th>\n",
       "      <td>21.01</td>\n",
       "      <td>3.50</td>\n",
       "      <td>Male</td>\n",
       "      <td>No</td>\n",
       "      <td>Sun</td>\n",
       "      <td>Dinner</td>\n",
       "      <td>3</td>\n",
       "    </tr>\n",
       "    <tr>\n",
       "      <th>3</th>\n",
       "      <td>23.68</td>\n",
       "      <td>3.31</td>\n",
       "      <td>Male</td>\n",
       "      <td>No</td>\n",
       "      <td>Sun</td>\n",
       "      <td>Dinner</td>\n",
       "      <td>2</td>\n",
       "    </tr>\n",
       "    <tr>\n",
       "      <th>4</th>\n",
       "      <td>24.59</td>\n",
       "      <td>3.61</td>\n",
       "      <td>Female</td>\n",
       "      <td>No</td>\n",
       "      <td>Sun</td>\n",
       "      <td>Dinner</td>\n",
       "      <td>4</td>\n",
       "    </tr>\n",
       "  </tbody>\n",
       "</table>\n",
       "</div>"
      ],
      "text/plain": [
       "   total_bill   tip     sex smoker  day    time  size\n",
       "0       16.99  1.01  Female     No  Sun  Dinner     2\n",
       "1       10.34  1.66    Male     No  Sun  Dinner     3\n",
       "2       21.01  3.50    Male     No  Sun  Dinner     3\n",
       "3       23.68  3.31    Male     No  Sun  Dinner     2\n",
       "4       24.59  3.61  Female     No  Sun  Dinner     4"
      ]
     },
     "execution_count": 6,
     "metadata": {},
     "output_type": "execute_result"
    }
   ],
   "source": [
    "# initialize the transformer and use it in the dataset\n",
    "from sklearn.preprocessing import Binarizer\n",
    "\n",
    "tips = sns.load_dataset('tips')\n",
    "tips.head()"
   ]
  },
  {
   "cell_type": "code",
   "execution_count": 7,
   "metadata": {},
   "outputs": [
    {
     "data": {
      "text/plain": [
       "array([[0.],\n",
       "       [0.],\n",
       "       [1.],\n",
       "       [1.],\n",
       "       [1.]])"
      ]
     },
     "execution_count": 7,
     "metadata": {},
     "output_type": "execute_result"
    }
   ],
   "source": [
    "bi = Binarizer(threshold = 20)                     # initialize with the parameter\n",
    "binarized = bi.transform(tips[['total_bill']])     # called transform on a data \n",
    "binarized[:5]"
   ]
  },
  {
   "cell_type": "code",
   "execution_count": 8,
   "metadata": {},
   "outputs": [
    {
     "data": {
      "image/png": "[encoded data removed]",
      "text/plain": [
       "<Figure size 700x500 with 1 Axes>"
      ]
     },
     "metadata": {},
     "output_type": "display_data"
    }
   ],
   "source": [
    "# check if works\n",
    "# \n",
    "(\n",
    "    pd.concat([tips.total_bill, pd.DataFrame(binarized, columns=['binarized'])], axis=1)\n",
    "    .sort_values('total_bill')\n",
    "    .plot(x='total_bill', y='binarized')\n",
    ");"
   ]
  },
  {
   "cell_type": "code",
   "execution_count": 9,
   "metadata": {},
   "outputs": [
    {
     "data": {
      "text/html": [
       "<div>\n",
       "<style scoped>\n",
       "    .dataframe tbody tr th:only-of-type {\n",
       "        vertical-align: middle;\n",
       "    }\n",
       "\n",
       "    .dataframe tbody tr th {\n",
       "        vertical-align: top;\n",
       "    }\n",
       "\n",
       "    .dataframe thead th {\n",
       "        text-align: right;\n",
       "    }\n",
       "</style>\n",
       "<table border=\"1\" class=\"dataframe\">\n",
       "  <thead>\n",
       "    <tr style=\"text-align: right;\">\n",
       "      <th></th>\n",
       "      <th>total_bill</th>\n",
       "      <th>size</th>\n",
       "      <th>tip</th>\n",
       "    </tr>\n",
       "  </thead>\n",
       "  <tbody>\n",
       "    <tr>\n",
       "      <th>0</th>\n",
       "      <td>16.99</td>\n",
       "      <td>2</td>\n",
       "      <td>1.01</td>\n",
       "    </tr>\n",
       "    <tr>\n",
       "      <th>1</th>\n",
       "      <td>10.34</td>\n",
       "      <td>3</td>\n",
       "      <td>1.66</td>\n",
       "    </tr>\n",
       "    <tr>\n",
       "      <th>2</th>\n",
       "      <td>21.01</td>\n",
       "      <td>3</td>\n",
       "      <td>3.50</td>\n",
       "    </tr>\n",
       "    <tr>\n",
       "      <th>3</th>\n",
       "      <td>23.68</td>\n",
       "      <td>2</td>\n",
       "      <td>3.31</td>\n",
       "    </tr>\n",
       "    <tr>\n",
       "      <th>4</th>\n",
       "      <td>24.59</td>\n",
       "      <td>4</td>\n",
       "      <td>3.61</td>\n",
       "    </tr>\n",
       "  </tbody>\n",
       "</table>\n",
       "</div>"
      ],
      "text/plain": [
       "   total_bill  size   tip\n",
       "0       16.99     2  1.01\n",
       "1       10.34     3  1.66\n",
       "2       21.01     3  3.50\n",
       "3       23.68     2  3.31\n",
       "4       24.59     4  3.61"
      ]
     },
     "execution_count": 9,
     "metadata": {},
     "output_type": "execute_result"
    }
   ],
   "source": [
    "from sklearn.preprocessing import StandardScaler\n",
    "\n",
    "tips = sns.load_dataset('tips')\n",
    "quantcols = ['total_bill', 'size', 'tip']\n",
    "tips[quantcols].head()"
   ]
  },
  {
   "cell_type": "code",
   "execution_count": 10,
   "metadata": {},
   "outputs": [],
   "source": [
    "stdscaler = StandardScaler()"
   ]
  },
  {
   "cell_type": "code",
   "execution_count": 12,
   "metadata": {},
   "outputs": [
    {
     "data": {
      "text/plain": [
       "StandardScaler()"
      ]
     },
     "execution_count": 12,
     "metadata": {},
     "output_type": "execute_result"
    }
   ],
   "source": [
    "stdscaler.fit(tips[quantcols])"
   ]
  },
  {
   "cell_type": "code",
   "execution_count": 15,
   "metadata": {},
   "outputs": [
    {
     "data": {
      "text/plain": [
       "array([[-3.14711305e-01, -6.00192629e-01, -1.43994695e+00],\n",
       "       [-1.06323531e+00,  4.53382921e-01, -9.69205340e-01],\n",
       "       [ 1.37779900e-01,  4.53382921e-01,  3.63355539e-01],\n",
       "       [ 4.38315103e-01, -6.00192629e-01,  2.25754144e-01],\n",
       "       [ 5.40744704e-01,  1.50695847e+00,  4.43019505e-01],\n",
       "       [ 6.19536705e-01,  1.50695847e+00,  1.23965916e+00],\n",
       "       [-1.23995452e+00, -6.00192629e-01, -7.22971264e-01],\n",
       "       [ 7.98507107e-01,  1.50695847e+00,  8.81527488e-02],\n",
       "       [-5.34203307e-01, -6.00192629e-01, -7.51939979e-01],\n",
       "       [-5.63468908e-01, -6.00192629e-01,  1.67816714e-01],\n",
       "       [-1.07111451e+00, -6.00192629e-01, -9.32994446e-01],\n",
       "       [ 1.74175992e+00,  1.50695847e+00,  1.44968234e+00],\n",
       "       [-4.91430507e-01, -6.00192629e-01, -1.03438495e+00],\n",
       "       [-1.52624903e-01,  1.50695847e+00,  1.24660453e-03],\n",
       "       [-5.57840908e-01, -6.00192629e-01,  1.57309619e-02],\n",
       "       [ 2.01939101e-01, -6.00192629e-01,  6.67527044e-01],\n",
       "       [-1.06436091e+00,  4.53382921e-01, -9.61963161e-01],\n",
       "       [-3.93503306e-01,  4.53382921e-01,  5.15441291e-01],\n",
       "       [-3.16962505e-01,  4.53382921e-01,  3.63355539e-01],\n",
       "       [ 9.72582994e-02,  4.53382921e-01,  2.54722859e-01],\n",
       "       [-2.10030504e-01, -6.00192629e-01,  7.83401903e-01],\n",
       "       [ 5.67366990e-02, -6.00192629e-01, -1.79807863e-01],\n",
       "       [-4.52034507e-01, -6.00192629e-01, -5.56401155e-01],\n",
       "       [ 2.21000952e+00,  1.50695847e+00,  3.31816444e+00],\n",
       "       [ 3.83349840e-03, -6.00192629e-01,  1.31605821e-01],\n",
       "       [-2.22412104e-01,  1.50695847e+00, -4.76737189e-01],\n",
       "       [-7.22178510e-01, -6.00192629e-01, -7.22971264e-01],\n",
       "       [-7.98719310e-01, -6.00192629e-01, -7.22971264e-01],\n",
       "       [ 2.15446301e-01, -6.00192629e-01,  9.42729834e-01],\n",
       "       [-1.53017018e-02, -6.00192629e-01,  1.24660453e-03],\n",
       "       [-1.15215771e+00, -6.00192629e-01, -1.12129109e+00],\n",
       "       [-1.61629703e-01,  1.50695847e+00, -3.60862330e-01],\n",
       "       [-5.31952107e-01, -6.00192629e-01,  1.24660453e-03],\n",
       "       [ 1.01760699e-01,  1.50695847e+00, -3.97073223e-01],\n",
       "       [-2.25788904e-01, -6.00192629e-01,  1.96785429e-01],\n",
       "       [ 4.81087904e-01,  4.53382921e-01,  4.35777326e-01],\n",
       "       [-3.91252106e-01,  4.53382921e-01, -7.22971264e-01],\n",
       "       [-3.21464905e-01,  4.53382921e-01,  5.19418554e-02],\n",
       "       [-1.23359303e-01,  4.53382921e-01, -4.98463725e-01],\n",
       "       [ 1.29264551e+00,  4.53382921e-01,  1.44968234e+00],\n",
       "       [-4.21643306e-01,  4.53382921e-01, -5.49158976e-01],\n",
       "       [-2.61808105e-01, -6.00192629e-01, -3.31893615e-01],\n",
       "       [-6.58019309e-01, -6.00192629e-01,  4.46996767e-02],\n",
       "       [-1.13752491e+00, -6.00192629e-01, -1.21543942e+00],\n",
       "       [ 1.19471831e+00,  1.50695847e+00,  1.88421306e+00],\n",
       "       [-1.68383303e-01, -6.00192629e-01,  1.24660453e-03],\n",
       "       [ 2.75103101e-01, -6.00192629e-01,  1.44968234e+00],\n",
       "       [ 1.41983831e+00,  1.50695847e+00,  2.17390021e+00],\n",
       "       [ 9.86482309e-01,  4.53382921e-01, -6.86760371e-01],\n",
       "       [-1.96523304e-01, -6.00192629e-01,  1.24660453e-03],\n",
       "       [-8.15603311e-01, -6.00192629e-01, -3.60862330e-01],\n",
       "       [-1.06886331e+00, -6.00192629e-01, -2.88440543e-01],\n",
       "       [ 1.69110792e+00,  1.50695847e+00,  1.59452592e+00],\n",
       "       [-1.10825931e+00, -6.00192629e-01, -1.04162713e+00],\n",
       "       [ 6.49927905e-01,  1.50695847e+00,  9.71698549e-01],\n",
       "       [-3.33113020e-02, -6.00192629e-01,  3.70597718e-01],\n",
       "       [ 2.05129992e+00,  1.50695847e+00,  1.24660453e-03],\n",
       "       [ 7.45603907e-01, -6.00192629e-01, -1.08508020e+00],\n",
       "       [-9.61931312e-01, -6.00192629e-01, -8.96783553e-01],\n",
       "       [ 3.20616553e+00,  1.50695847e+00,  2.70257926e+00],\n",
       "       [ 5.67366990e-02, -6.00192629e-01,  1.53332357e-01],\n",
       "       [-6.72652109e-01, -6.00192629e-01, -7.22971264e-01],\n",
       "       [-9.86694512e-01, -6.00192629e-01, -7.37455622e-01],\n",
       "       [-1.68383303e-01,  1.50695847e+00,  5.51652185e-01],\n",
       "       [-2.47175304e-01,  4.53382921e-01, -2.59471828e-01],\n",
       "       [ 3.30990987e-02,  4.53382921e-01,  1.09879285e-01],\n",
       "       [-3.75493706e-01, -6.00192629e-01, -3.82588866e-01],\n",
       "       [-1.88154652e+00, -1.65376818e+00, -1.44718913e+00],\n",
       "       [ 4.99830989e-02, -6.00192629e-01, -7.15729086e-01],\n",
       "       [-5.37580108e-01, -6.00192629e-01, -6.57791656e-01],\n",
       "       [-8.74134511e-01, -6.00192629e-01, -7.44697800e-01],\n",
       "       [-3.05706505e-01,  4.53382921e-01,  1.24660453e-03],\n",
       "       [ 7.96255907e-01, -6.00192629e-01,  1.02637106e-01],\n",
       "       [ 6.18411105e-01, -6.00192629e-01,  1.44968234e+00],\n",
       "       [-5.69096908e-01, -6.00192629e-01, -5.78127691e-01],\n",
       "       [-1.04410011e+00, -6.00192629e-01, -1.26613467e+00],\n",
       "       [-2.10030504e-01, -6.00192629e-01,  5.91840340e-02],\n",
       "       [ 8.34526308e-01,  1.50695847e+00,  7.25464473e-01],\n",
       "       [ 3.34759902e-01, -6.00192629e-01,  1.24660453e-03],\n",
       "       [-2.80943305e-01, -6.00192629e-01, -2.08776577e-01],\n",
       "       [-3.89393021e-02, -6.00192629e-01,  1.24660453e-03],\n",
       "       [-3.51856105e-01, -6.00192629e-01,  2.90933752e-01],\n",
       "       [-1.09362651e+00, -1.65376818e+00, -8.46088302e-01],\n",
       "       [ 1.45135511e+00, -6.00192629e-01,  1.44968234e+00],\n",
       "       [-4.28396906e-01, -6.00192629e-01, -7.01244728e-01],\n",
       "       [ 1.69335912e+00,  1.50695847e+00,  1.57279938e+00],\n",
       "       [-7.60448910e-01, -6.00192629e-01, -7.22971264e-01],\n",
       "       [-1.69508903e-01, -6.00192629e-01,  7.25464473e-01],\n",
       "       [ 5.54251904e-01, -6.00192629e-01,  2.06526753e+00],\n",
       "       [ 1.54663900e-01, -6.00192629e-01,  1.24660453e-03],\n",
       "       [ 1.03375751e+00, -6.00192629e-01,  1.24660453e-03],\n",
       "       [ 3.04368702e-01, -6.00192629e-01,  3.63355539e-01],\n",
       "       [-1.57988572e+00, -6.00192629e-01, -1.44718913e+00],\n",
       "       [-3.90126506e-01, -6.00192629e-01,  9.42729834e-01],\n",
       "       [ 3.33634302e-01, -6.00192629e-01,  1.82301072e-01],\n",
       "       [ 2.29442952e+00,  1.50695847e+00,  1.25414352e+00],\n",
       "       [ 8.43531108e-01, -6.00192629e-01,  7.25464473e-01],\n",
       "       [-8.73008911e-01, -6.00192629e-01, -1.08508020e+00],\n",
       "       [ 1.37779900e-01, -6.00192629e-01,  1.24660453e-03],\n",
       "       [-8.24608111e-01, -6.00192629e-01, -1.08508020e+00],\n",
       "       [-9.49549712e-01, -6.00192629e-01, -3.60862330e-01],\n",
       "       [-4.95932907e-01, -6.00192629e-01,  1.24660453e-03],\n",
       "       [ 2.75930233e+00,  4.53382921e-01, -3.60862330e-01],\n",
       "       [ 2.96489502e-01, -6.00192629e-01,  3.48871182e-01],\n",
       "       [ 1.27649500e-01, -6.00192629e-01,  7.83401903e-01],\n",
       "       [-4.98184107e-01, -6.00192629e-01, -9.83689697e-01],\n",
       "       [ 7.92486992e-02, -6.00192629e-01,  7.68917546e-01],\n",
       "       [ 6.10531905e-01, -6.00192629e-01,  9.35487655e-01],\n",
       "       [-1.74011304e-01, -6.00192629e-01,  5.51652185e-01],\n",
       "       [-6.16372108e-01, -6.00192629e-01,  7.25464473e-01],\n",
       "       [-6.51265709e-01, -6.00192629e-01,  1.24660453e-03],\n",
       "       [-1.41104572e+00, -1.65376818e+00, -1.44718913e+00],\n",
       "       [ 2.05805352e+00,  4.53382921e-01,  7.25464473e-01],\n",
       "       [ 4.68706304e-01, -6.00192629e-01, -3.24651436e-01],\n",
       "       [ 6.66811906e-01,  4.53382921e-01,  7.25464473e-01],\n",
       "       [-2.78692105e-01, -6.00192629e-01,  3.63355539e-01],\n",
       "       [ 1.14181511e+00,  1.50695847e+00,  1.50037759e+00],\n",
       "       [-1.02834171e+00, -6.00192629e-01, -1.08508020e+00],\n",
       "       [-8.27984911e-01, -6.00192629e-01, -8.67814838e-01],\n",
       "       [ 4.83339104e-01,  1.50695847e+00, -5.66908250e-02],\n",
       "       [-9.11279312e-01, -6.00192629e-01, -4.98463725e-01],\n",
       "       [-7.16550509e-01, -6.00192629e-01, -9.54720982e-01],\n",
       "       [-6.22000108e-01, -6.00192629e-01, -3.60862330e-01],\n",
       "       [-4.31773706e-01, -6.00192629e-01, -7.22971264e-01],\n",
       "       [-8.22356911e-01, -6.00192629e-01, -3.46377973e-01],\n",
       "       [ 1.12718231e+00,  3.61410957e+00,  8.70308047e-01],\n",
       "       [-1.26809452e+00, -6.00192629e-01, -1.09956456e+00],\n",
       "       [-5.92734508e-01, -6.00192629e-01, -7.22971264e-01],\n",
       "       [-9.46172912e-01, -6.00192629e-01, -7.22971264e-01],\n",
       "       [ 3.41513502e-01,  4.53382921e-01, -5.92612048e-01],\n",
       "       [-7.94609025e-02, -6.00192629e-01, -1.08508020e+00],\n",
       "       [ 5.44854990e-02, -6.00192629e-01, -1.21870433e-01],\n",
       "       [-9.69810512e-01, -6.00192629e-01, -1.08508020e+00],\n",
       "       [-8.47120111e-01, -6.00192629e-01, -7.22971264e-01],\n",
       "       [-1.71760104e-01, -6.00192629e-01,  1.82301072e-01],\n",
       "       [-1.26922012e+00, -6.00192629e-01, -1.26613467e+00],\n",
       "       [-1.06436091e+00, -6.00192629e-01, -7.22971264e-01],\n",
       "       [-6.34381709e-01, -6.00192629e-01, -7.22971264e-01],\n",
       "       [-4.26145706e-01, -6.00192629e-01, -7.22971264e-01],\n",
       "       [-7.45816110e-01, -6.00192629e-01, -1.79807863e-01],\n",
       "       [-2.60682504e-01, -6.00192629e-01,  3.63355539e-01],\n",
       "       [ 1.63370232e+00,  3.61410957e+00,  2.68085272e+00],\n",
       "       [ 2.40924072e+00,  2.56053402e+00,  1.44968234e+00],\n",
       "       [ 8.17642307e-01,  3.61410957e+00,  1.44968234e+00],\n",
       "       [-3.77744906e-01, -6.00192629e-01, -5.05705904e-01],\n",
       "       [-1.28722972e+00, -6.00192629e-01, -1.08508020e+00],\n",
       "       [-1.28987303e-01,  4.53382921e-01, -1.18647070e+00],\n",
       "       [-8.91018511e-01, -6.00192629e-01, -9.90931876e-01],\n",
       "       [-1.12626891e+00, -6.00192629e-01, -9.18510089e-01],\n",
       "       [-1.38178012e+00, -6.00192629e-01, -7.22971264e-01],\n",
       "       [-6.43386509e-01, -6.00192629e-01, -3.60862330e-01],\n",
       "       [-7.49192910e-01, -6.00192629e-01, -7.22971264e-01],\n",
       "       [-2.84320105e-01,  4.53382921e-01, -1.87050041e-01],\n",
       "       [ 5.36242304e-01,  1.50695847e+00, -7.22971264e-01],\n",
       "       [-1.79450166e-03,  1.50695847e+00, -7.22971264e-01],\n",
       "       [ 1.13281031e+00,  2.56053402e+00,  1.55107284e+00],\n",
       "       [ 3.19490953e+00,  3.61410957e+00,  1.44968234e+00],\n",
       "       [ 5.86894305e-01,  1.50695847e+00,  5.44410006e-01],\n",
       "       [-7.19927310e-01, -6.00192629e-01, -2.81198364e-01],\n",
       "       [-3.70991306e-01,  1.50695847e+00, -7.22971264e-01],\n",
       "       [ 1.92934300e-01,  1.50695847e+00,  3.63355539e-01],\n",
       "       [-8.02096110e-01, -6.00192629e-01, -3.60862330e-01],\n",
       "       [-4.02508106e-01,  4.53382921e-01, -7.22971264e-01],\n",
       "       [-6.72652109e-01, -6.00192629e-01, -7.22971264e-01],\n",
       "       [-2.56180104e-01, -6.00192629e-01,  1.24660453e-03],\n",
       "       [ 5.32865504e-01,  4.53382921e-01,  3.48871182e-01],\n",
       "       [ 1.09639900e-01, -6.00192629e-01, -5.49158976e-01],\n",
       "       [ 1.34217191e+00,  1.50695847e+00,  1.08757341e+00],\n",
       "       [-1.03509531e+00, -6.00192629e-01, -1.00541623e+00],\n",
       "       [-1.03059291e+00, -6.00192629e-01, -7.22971264e-01],\n",
       "       [ 3.49206794e+00,  4.53382921e-01,  5.07077169e+00],\n",
       "       [-4.47532107e-01, -6.00192629e-01,  1.17121464e-01],\n",
       "       [-1.41104572e+00, -6.00192629e-01,  1.55831502e+00],\n",
       "       [ 1.35793031e+00, -6.00192629e-01,  1.31605821e-01],\n",
       "       [-3.33846505e-01, -6.00192629e-01,  7.25464473e-01],\n",
       "       [ 1.47611831e+00, -6.00192629e-01,  8.09105701e-02],\n",
       "       [-2.13407304e-01, -6.00192629e-01, -7.22971264e-01],\n",
       "       [-5.97236908e-01, -6.00192629e-01, -7.22971264e-01],\n",
       "       [-1.14652971e+00, -6.00192629e-01,  7.25464473e-01],\n",
       "       [ 1.67084712e+00, -6.00192629e-01,  3.99566432e-01],\n",
       "       [ 1.67309832e+00,  1.50695847e+00,  4.93714755e-01],\n",
       "       [ 3.98919103e-01, -6.00192629e-01,  1.92042396e+00],\n",
       "       [ 2.87749033e+00,  4.53382921e-01,  3.63355539e-01],\n",
       "       [ 3.80909503e-01,  1.50695847e+00,  2.53600915e+00],\n",
       "       [ 2.33720232e+00, -6.00192629e-01,  1.24660453e-03],\n",
       "       [ 1.01760699e-01,  2.56053402e+00,  1.44968234e+00],\n",
       "       [ 1.25398300e-01,  4.53382921e-01,  3.63355539e-01],\n",
       "       [ 1.20147191e+00,  2.56053402e+00, -7.22971264e-01],\n",
       "       [-1.84141704e-01,  4.53382921e-01,  3.63355539e-01],\n",
       "       [ 3.73030302e-01,  4.53382921e-01,  7.25464473e-01],\n",
       "       [-4.61039307e-01, -6.00192629e-01, -1.08508020e+00],\n",
       "       [ 2.70789839e-03, -6.00192629e-01,  8.63065869e-01],\n",
       "       [ 9.74100709e-01, -6.00192629e-01, -3.17409258e-01],\n",
       "       [-4.84676907e-01, -6.00192629e-01, -7.08486907e-01],\n",
       "       [-3.60860906e-01, -6.00192629e-01,  7.25464473e-01],\n",
       "       [-1.37615212e+00, -6.00192629e-01, -1.12853327e+00],\n",
       "       [-1.06323531e+00, -6.00192629e-01, -7.22971264e-01],\n",
       "       [ 2.62535593e+00,  1.50695847e+00,  1.44968234e+00],\n",
       "       [-7.63825710e-01, -6.00192629e-01, -7.22971264e-01],\n",
       "       [-7.06420109e-01, -6.00192629e-01, -7.22971264e-01],\n",
       "       [-1.21108103e-01,  4.53382921e-01,  7.25464473e-01],\n",
       "       [-7.93091310e-01, -6.00192629e-01, -7.15729086e-01],\n",
       "       [-7.63825710e-01, -6.00192629e-01, -7.22971264e-01],\n",
       "       [-3.81121706e-01, -6.00192629e-01, -3.60862330e-01],\n",
       "       [ 8.37510993e-02,  1.50695847e+00,  7.25464473e-01],\n",
       "       [-3.73242506e-01,  4.53382921e-01,  1.67816714e-01],\n",
       "       [ 7.65864707e-01,  4.53382921e-01,  2.98175931e-01],\n",
       "       [ 2.13234312e+00,  1.50695847e+00,  1.24660453e-03],\n",
       "       [ 5.04725504e-01, -6.00192629e-01, -7.01244728e-01],\n",
       "       [-7.90840110e-01, -6.00192629e-01, -5.56401155e-01],\n",
       "       [ 1.15644791e+00,  4.53382921e-01, -7.22971264e-01],\n",
       "       [ 6.87072706e-01,  1.50695847e+00,  1.56555720e+00],\n",
       "       [ 3.21291913e+00,  1.50695847e+00,  4.34655382e+00],\n",
       "       [-7.33434510e-01, -6.00192629e-01, -3.60862330e-01],\n",
       "       [ 9.43709509e-01,  4.53382921e-01,  2.53600915e+00],\n",
       "       [-7.75081710e-01, -6.00192629e-01, -1.37476735e+00],\n",
       "       [ 9.41458309e-01,  2.56053402e+00,  1.24660453e-03],\n",
       "       [-9.22535312e-01, -6.00192629e-01, -1.08508020e+00],\n",
       "       [-1.35589132e+00, -6.00192629e-01, -1.12853327e+00],\n",
       "       [ 1.16545271e+00,  1.50695847e+00,  6.64262127e-02],\n",
       "       [-8.58376111e-01, -6.00192629e-01, -5.78127691e-01],\n",
       "       [-7.16550509e-01, -6.00192629e-01,  3.48871182e-01],\n",
       "       [-1.26134092e+00, -1.65376818e+00, -7.80908694e-01],\n",
       "       [-4.28396906e-01,  4.53382921e-01,  1.24660453e-03],\n",
       "       [-7.16550509e-01, -6.00192629e-01, -1.02714277e+00],\n",
       "       [-3.95754506e-01, -6.00192629e-01, -3.60862330e-01],\n",
       "       [-1.09137531e+00, -6.00192629e-01, -7.22971264e-01],\n",
       "       [ 7.47462992e-02,  1.50695847e+00,  1.24660453e-03],\n",
       "       [-7.32308910e-01, -6.00192629e-01, -2.01534399e-01],\n",
       "       [ 2.62721501e-01, -6.00192629e-01, -8.56595397e-02],\n",
       "       [ 4.75459904e-01,  1.50695847e+00, -7.22971264e-01],\n",
       "       [-4.61039307e-01,  4.53382921e-01,  1.24660453e-03],\n",
       "       [-9.20284112e-01, -6.00192629e-01,  2.83691573e-01],\n",
       "       [-1.01483451e+00, -6.00192629e-01, -1.10680673e+00],\n",
       "       [-4.79048907e-01, -6.00192629e-01,  1.24660453e-03],\n",
       "       [-1.09362651e+00, -6.00192629e-01, -1.26613467e+00],\n",
       "       [-8.08849711e-01, -6.00192629e-01, -1.44718913e+00],\n",
       "       [ 1.46823911e+00, -6.00192629e-01, -1.32407210e+00],\n",
       "       [ 1.80591912e+00,  4.53382921e-01,  1.21069045e+00],\n",
       "       [ 1.04051111e+00,  4.53382921e-01,  2.11596278e+00],\n",
       "       [ 8.32275107e-01, -6.00192629e-01, -7.22971264e-01],\n",
       "       [ 3.24629502e-01, -6.00192629e-01, -7.22971264e-01],\n",
       "       [-2.21286504e-01, -6.00192629e-01, -9.04025732e-01],\n",
       "       [-1.13228903e-01, -6.00192629e-01,  1.24660453e-03]])"
      ]
     },
     "execution_count": 15,
     "metadata": {},
     "output_type": "execute_result"
    }
   ],
   "source": [
    "# z-scaled data\n",
    "stdscaler.transform(tips[quantcols])"
   ]
  },
  {
   "cell_type": "markdown",
   "metadata": {
    "slideshow": {
     "slide_type": "slide"
    }
   },
   "source": [
    "## One-Hot Encoding"
   ]
  },
  {
   "cell_type": "code",
   "execution_count": 83,
   "metadata": {},
   "outputs": [
    {
     "data": {
      "text/html": [
       "<div>\n",
       "<style scoped>\n",
       "    .dataframe tbody tr th:only-of-type {\n",
       "        vertical-align: middle;\n",
       "    }\n",
       "\n",
       "    .dataframe tbody tr th {\n",
       "        vertical-align: top;\n",
       "    }\n",
       "\n",
       "    .dataframe thead th {\n",
       "        text-align: right;\n",
       "    }\n",
       "</style>\n",
       "<table border=\"1\" class=\"dataframe\">\n",
       "  <thead>\n",
       "    <tr style=\"text-align: right;\">\n",
       "      <th></th>\n",
       "      <th>sex</th>\n",
       "      <th>smoker</th>\n",
       "      <th>day</th>\n",
       "      <th>time</th>\n",
       "    </tr>\n",
       "  </thead>\n",
       "  <tbody>\n",
       "    <tr>\n",
       "      <th>0</th>\n",
       "      <td>Female</td>\n",
       "      <td>No</td>\n",
       "      <td>Sun</td>\n",
       "      <td>Dinner</td>\n",
       "    </tr>\n",
       "    <tr>\n",
       "      <th>1</th>\n",
       "      <td>Male</td>\n",
       "      <td>No</td>\n",
       "      <td>Sun</td>\n",
       "      <td>Dinner</td>\n",
       "    </tr>\n",
       "    <tr>\n",
       "      <th>2</th>\n",
       "      <td>Male</td>\n",
       "      <td>No</td>\n",
       "      <td>Sun</td>\n",
       "      <td>Dinner</td>\n",
       "    </tr>\n",
       "    <tr>\n",
       "      <th>3</th>\n",
       "      <td>Male</td>\n",
       "      <td>No</td>\n",
       "      <td>Sun</td>\n",
       "      <td>Dinner</td>\n",
       "    </tr>\n",
       "    <tr>\n",
       "      <th>4</th>\n",
       "      <td>Female</td>\n",
       "      <td>No</td>\n",
       "      <td>Sun</td>\n",
       "      <td>Dinner</td>\n",
       "    </tr>\n",
       "  </tbody>\n",
       "</table>\n",
       "</div>"
      ],
      "text/plain": [
       "      sex smoker  day    time\n",
       "0  Female     No  Sun  Dinner\n",
       "1    Male     No  Sun  Dinner\n",
       "2    Male     No  Sun  Dinner\n",
       "3    Male     No  Sun  Dinner\n",
       "4  Female     No  Sun  Dinner"
      ]
     },
     "execution_count": 83,
     "metadata": {},
     "output_type": "execute_result"
    }
   ],
   "source": [
    "# just categoricals\n",
    "from sklearn.preprocessing import OneHotEncoder\n",
    "\n",
    "tips_cat = ['sex', 'smoker', 'day', 'time']\n",
    "regdata = tips[tips_cat]\n",
    "regdata.head()"
   ]
  },
  {
   "cell_type": "code",
   "execution_count": 84,
   "metadata": {},
   "outputs": [
    {
     "data": {
      "text/plain": [
       "[array(['Female', 'Male'], dtype=object),\n",
       " array(['No', 'Yes'], dtype=object),\n",
       " array(['Fri', 'Sat', 'Sun', 'Thur'], dtype=object),\n",
       " array(['Dinner', 'Lunch'], dtype=object)]"
      ]
     },
     "execution_count": 84,
     "metadata": {},
     "output_type": "execute_result"
    }
   ],
   "source": [
    "ohe = OneHotEncoder() \n",
    "ohe.fit(regdata)       \n",
    "ohe.categories_       "
   ]
  },
  {
   "cell_type": "code",
   "execution_count": 85,
   "metadata": {},
   "outputs": [],
   "source": [
    "from sklearn.linear_model import LinearRegression"
   ]
  },
  {
   "cell_type": "code",
   "execution_count": 86,
   "metadata": {},
   "outputs": [],
   "source": [
    "ohe = OneHotEncoder(drop='first')\n",
    "features = ohe.fit_transform(tips[tips_cat])"
   ]
  },
  {
   "cell_type": "code",
   "execution_count": 87,
   "metadata": {},
   "outputs": [
    {
     "data": {
      "text/plain": [
       "array([[0., 0., 0., 1., 0., 0.],\n",
       "       [1., 0., 0., 1., 0., 0.],\n",
       "       [1., 0., 0., 1., 0., 0.],\n",
       "       ...,\n",
       "       [1., 1., 1., 0., 0., 0.],\n",
       "       [1., 0., 1., 0., 0., 0.],\n",
       "       [0., 0., 0., 0., 1., 0.]])"
      ]
     },
     "execution_count": 87,
     "metadata": {},
     "output_type": "execute_result"
    }
   ],
   "source": [
    "features.toarray()"
   ]
  },
  {
   "cell_type": "code",
   "execution_count": 88,
   "metadata": {},
   "outputs": [
    {
     "data": {
      "text/plain": [
       "array(['x0_Male', 'x1_Yes', 'x2_Sat', 'x2_Sun', 'x2_Thur', 'x3_Lunch'],\n",
       "      dtype=object)"
      ]
     },
     "execution_count": 88,
     "metadata": {},
     "output_type": "execute_result"
    }
   ],
   "source": [
    "ohe.get_feature_names()"
   ]
  },
  {
   "cell_type": "code",
   "execution_count": 89,
   "metadata": {},
   "outputs": [
    {
     "data": {
      "text/plain": [
       "LinearRegression()"
      ]
     },
     "execution_count": 89,
     "metadata": {},
     "output_type": "execute_result"
    }
   ],
   "source": [
    "lr = LinearRegression()\n",
    "lr.fit(features, tips.tip)"
   ]
  },
  {
   "cell_type": "code",
   "execution_count": 90,
   "metadata": {},
   "outputs": [],
   "source": [
    "preds = lr.predict(features)"
   ]
  },
  {
   "cell_type": "code",
   "execution_count": 91,
   "metadata": {},
   "outputs": [
    {
     "data": {
      "text/plain": [
       "1.361683846651701"
      ]
     },
     "execution_count": 91,
     "metadata": {},
     "output_type": "execute_result"
    }
   ],
   "source": [
    "# doesn't affect RMSE, but makes the individual weights on features more stable\n",
    "np.sqrt(np.mean((preds - tips.tip.values)**2))"
   ]
  },
  {
   "cell_type": "code",
   "execution_count": 92,
   "metadata": {},
   "outputs": [
    {
     "data": {
      "text/html": [
       "<div>\n",
       "<style scoped>\n",
       "    .dataframe tbody tr th:only-of-type {\n",
       "        vertical-align: middle;\n",
       "    }\n",
       "\n",
       "    .dataframe tbody tr th {\n",
       "        vertical-align: top;\n",
       "    }\n",
       "\n",
       "    .dataframe thead th {\n",
       "        text-align: right;\n",
       "    }\n",
       "</style>\n",
       "<table border=\"1\" class=\"dataframe\">\n",
       "  <thead>\n",
       "    <tr style=\"text-align: right;\">\n",
       "      <th></th>\n",
       "      <th>total_bill</th>\n",
       "      <th>tip</th>\n",
       "      <th>sex</th>\n",
       "      <th>smoker</th>\n",
       "      <th>day</th>\n",
       "      <th>time</th>\n",
       "      <th>size</th>\n",
       "      <th>preds</th>\n",
       "    </tr>\n",
       "  </thead>\n",
       "  <tbody>\n",
       "    <tr>\n",
       "      <th>0</th>\n",
       "      <td>16.99</td>\n",
       "      <td>1.01</td>\n",
       "      <td>Female</td>\n",
       "      <td>No</td>\n",
       "      <td>Sun</td>\n",
       "      <td>Dinner</td>\n",
       "      <td>2</td>\n",
       "      <td>3.104154</td>\n",
       "    </tr>\n",
       "    <tr>\n",
       "      <th>1</th>\n",
       "      <td>10.34</td>\n",
       "      <td>1.66</td>\n",
       "      <td>Male</td>\n",
       "      <td>No</td>\n",
       "      <td>Sun</td>\n",
       "      <td>Dinner</td>\n",
       "      <td>3</td>\n",
       "      <td>3.274363</td>\n",
       "    </tr>\n",
       "    <tr>\n",
       "      <th>2</th>\n",
       "      <td>21.01</td>\n",
       "      <td>3.50</td>\n",
       "      <td>Male</td>\n",
       "      <td>No</td>\n",
       "      <td>Sun</td>\n",
       "      <td>Dinner</td>\n",
       "      <td>3</td>\n",
       "      <td>3.274363</td>\n",
       "    </tr>\n",
       "    <tr>\n",
       "      <th>3</th>\n",
       "      <td>23.68</td>\n",
       "      <td>3.31</td>\n",
       "      <td>Male</td>\n",
       "      <td>No</td>\n",
       "      <td>Sun</td>\n",
       "      <td>Dinner</td>\n",
       "      <td>2</td>\n",
       "      <td>3.274363</td>\n",
       "    </tr>\n",
       "    <tr>\n",
       "      <th>4</th>\n",
       "      <td>24.59</td>\n",
       "      <td>3.61</td>\n",
       "      <td>Female</td>\n",
       "      <td>No</td>\n",
       "      <td>Sun</td>\n",
       "      <td>Dinner</td>\n",
       "      <td>4</td>\n",
       "      <td>3.104154</td>\n",
       "    </tr>\n",
       "    <tr>\n",
       "      <th>...</th>\n",
       "      <td>...</td>\n",
       "      <td>...</td>\n",
       "      <td>...</td>\n",
       "      <td>...</td>\n",
       "      <td>...</td>\n",
       "      <td>...</td>\n",
       "      <td>...</td>\n",
       "      <td>...</td>\n",
       "    </tr>\n",
       "    <tr>\n",
       "      <th>239</th>\n",
       "      <td>29.03</td>\n",
       "      <td>5.92</td>\n",
       "      <td>Male</td>\n",
       "      <td>No</td>\n",
       "      <td>Sat</td>\n",
       "      <td>Dinner</td>\n",
       "      <td>3</td>\n",
       "      <td>3.007175</td>\n",
       "    </tr>\n",
       "    <tr>\n",
       "      <th>240</th>\n",
       "      <td>27.18</td>\n",
       "      <td>2.00</td>\n",
       "      <td>Female</td>\n",
       "      <td>Yes</td>\n",
       "      <td>Sat</td>\n",
       "      <td>Dinner</td>\n",
       "      <td>2</td>\n",
       "      <td>2.921291</td>\n",
       "    </tr>\n",
       "    <tr>\n",
       "      <th>241</th>\n",
       "      <td>22.67</td>\n",
       "      <td>2.00</td>\n",
       "      <td>Male</td>\n",
       "      <td>Yes</td>\n",
       "      <td>Sat</td>\n",
       "      <td>Dinner</td>\n",
       "      <td>2</td>\n",
       "      <td>3.091500</td>\n",
       "    </tr>\n",
       "    <tr>\n",
       "      <th>242</th>\n",
       "      <td>17.82</td>\n",
       "      <td>1.75</td>\n",
       "      <td>Male</td>\n",
       "      <td>No</td>\n",
       "      <td>Sat</td>\n",
       "      <td>Dinner</td>\n",
       "      <td>2</td>\n",
       "      <td>3.007175</td>\n",
       "    </tr>\n",
       "    <tr>\n",
       "      <th>243</th>\n",
       "      <td>18.78</td>\n",
       "      <td>3.00</td>\n",
       "      <td>Female</td>\n",
       "      <td>No</td>\n",
       "      <td>Thur</td>\n",
       "      <td>Dinner</td>\n",
       "      <td>2</td>\n",
       "      <td>3.161221</td>\n",
       "    </tr>\n",
       "  </tbody>\n",
       "</table>\n",
       "<p>244 rows × 8 columns</p>\n",
       "</div>"
      ],
      "text/plain": [
       "     total_bill   tip     sex smoker   day    time  size     preds\n",
       "0         16.99  1.01  Female     No   Sun  Dinner     2  3.104154\n",
       "1         10.34  1.66    Male     No   Sun  Dinner     3  3.274363\n",
       "2         21.01  3.50    Male     No   Sun  Dinner     3  3.274363\n",
       "3         23.68  3.31    Male     No   Sun  Dinner     2  3.274363\n",
       "4         24.59  3.61  Female     No   Sun  Dinner     4  3.104154\n",
       "..          ...   ...     ...    ...   ...     ...   ...       ...\n",
       "239       29.03  5.92    Male     No   Sat  Dinner     3  3.007175\n",
       "240       27.18  2.00  Female    Yes   Sat  Dinner     2  2.921291\n",
       "241       22.67  2.00    Male    Yes   Sat  Dinner     2  3.091500\n",
       "242       17.82  1.75    Male     No   Sat  Dinner     2  3.007175\n",
       "243       18.78  3.00  Female     No  Thur  Dinner     2  3.161221\n",
       "\n",
       "[244 rows x 8 columns]"
      ]
     },
     "execution_count": 92,
     "metadata": {},
     "output_type": "execute_result"
    }
   ],
   "source": [
    "tips.assign(preds=preds)"
   ]
  },
  {
   "cell_type": "markdown",
   "metadata": {},
   "source": [
    "## Pipelines"
   ]
  },
  {
   "cell_type": "code",
   "execution_count": 43,
   "metadata": {},
   "outputs": [],
   "source": [
    "from sklearn.pipeline import Pipeline"
   ]
  },
  {
   "cell_type": "code",
   "execution_count": 44,
   "metadata": {},
   "outputs": [],
   "source": [
    "# pipelines are lists of steps: each is a transformation/estimator\n",
    "# each transformation is a tuple: the 'name' for the step name, and the transformer/estimator object.\n",
    "pl = Pipeline([\n",
    "    ('one-hot', OneHotEncoder()),\n",
    "    ('lin-reg', LinearRegression())\n",
    "])"
   ]
  },
  {
   "cell_type": "code",
   "execution_count": 45,
   "metadata": {},
   "outputs": [
    {
     "data": {
      "text/html": [
       "<div>\n",
       "<style scoped>\n",
       "    .dataframe tbody tr th:only-of-type {\n",
       "        vertical-align: middle;\n",
       "    }\n",
       "\n",
       "    .dataframe tbody tr th {\n",
       "        vertical-align: top;\n",
       "    }\n",
       "\n",
       "    .dataframe thead th {\n",
       "        text-align: right;\n",
       "    }\n",
       "</style>\n",
       "<table border=\"1\" class=\"dataframe\">\n",
       "  <thead>\n",
       "    <tr style=\"text-align: right;\">\n",
       "      <th></th>\n",
       "      <th>sex</th>\n",
       "      <th>smoker</th>\n",
       "      <th>day</th>\n",
       "      <th>time</th>\n",
       "    </tr>\n",
       "  </thead>\n",
       "  <tbody>\n",
       "    <tr>\n",
       "      <th>0</th>\n",
       "      <td>Female</td>\n",
       "      <td>No</td>\n",
       "      <td>Sun</td>\n",
       "      <td>Dinner</td>\n",
       "    </tr>\n",
       "    <tr>\n",
       "      <th>1</th>\n",
       "      <td>Male</td>\n",
       "      <td>No</td>\n",
       "      <td>Sun</td>\n",
       "      <td>Dinner</td>\n",
       "    </tr>\n",
       "    <tr>\n",
       "      <th>2</th>\n",
       "      <td>Male</td>\n",
       "      <td>No</td>\n",
       "      <td>Sun</td>\n",
       "      <td>Dinner</td>\n",
       "    </tr>\n",
       "    <tr>\n",
       "      <th>3</th>\n",
       "      <td>Male</td>\n",
       "      <td>No</td>\n",
       "      <td>Sun</td>\n",
       "      <td>Dinner</td>\n",
       "    </tr>\n",
       "    <tr>\n",
       "      <th>4</th>\n",
       "      <td>Female</td>\n",
       "      <td>No</td>\n",
       "      <td>Sun</td>\n",
       "      <td>Dinner</td>\n",
       "    </tr>\n",
       "  </tbody>\n",
       "</table>\n",
       "</div>"
      ],
      "text/plain": [
       "      sex smoker  day    time\n",
       "0  Female     No  Sun  Dinner\n",
       "1    Male     No  Sun  Dinner\n",
       "2    Male     No  Sun  Dinner\n",
       "3    Male     No  Sun  Dinner\n",
       "4  Female     No  Sun  Dinner"
      ]
     },
     "execution_count": 45,
     "metadata": {},
     "output_type": "execute_result"
    }
   ],
   "source": [
    "regdata.head()"
   ]
  },
  {
   "cell_type": "code",
   "execution_count": 46,
   "metadata": {},
   "outputs": [
    {
     "data": {
      "text/plain": [
       "Pipeline(steps=[('one-hot', OneHotEncoder()), ('lin-reg', LinearRegression())])"
      ]
     },
     "execution_count": 46,
     "metadata": {},
     "output_type": "execute_result"
    }
   ],
   "source": [
    "pl.fit(regdata, tips.tip)"
   ]
  },
  {
   "cell_type": "code",
   "execution_count": 49,
   "metadata": {},
   "outputs": [
    {
     "data": {
      "text/plain": [
       "array([3.10415414, 3.27436302, 3.27436302, 3.27436302, 3.10415414,\n",
       "       3.27436302, 3.27436302, 3.27436302, 3.27436302, 3.27436302])"
      ]
     },
     "execution_count": 49,
     "metadata": {},
     "output_type": "execute_result"
    }
   ],
   "source": [
    "pl.predict(regdata)[:10]"
   ]
  },
  {
   "cell_type": "code",
   "execution_count": 50,
   "metadata": {},
   "outputs": [
    {
     "data": {
      "text/plain": [
       "0.027496790201475663"
      ]
     },
     "execution_count": 50,
     "metadata": {},
     "output_type": "execute_result"
    }
   ],
   "source": [
    "# R^2 -- still terrible! (1 is good, 0 is bad)\n",
    "pl.score(regdata, tips.tip)"
   ]
  },
  {
   "cell_type": "code",
   "execution_count": 51,
   "metadata": {},
   "outputs": [],
   "source": [
    "from sklearn.compose import ColumnTransformer\n",
    "from sklearn.linear_model import LinearRegression\n",
    "import sklearn.preprocessing as pp"
   ]
  },
  {
   "cell_type": "code",
   "execution_count": 52,
   "metadata": {},
   "outputs": [],
   "source": [
    "# 1. split data up into quant. and cat. features\n",
    "# 2. z-scale for quant features\n",
    "# 3. One-hot encode for cat. features\n",
    "# 4. Two pipelines\n",
    "# 5. Use column transformer to put everything back\n",
    "# 6. Apply the model => predictions"
   ]
  },
  {
   "cell_type": "code",
   "execution_count": 53,
   "metadata": {},
   "outputs": [
    {
     "data": {
      "text/html": [
       "<div>\n",
       "<style scoped>\n",
       "    .dataframe tbody tr th:only-of-type {\n",
       "        vertical-align: middle;\n",
       "    }\n",
       "\n",
       "    .dataframe tbody tr th {\n",
       "        vertical-align: top;\n",
       "    }\n",
       "\n",
       "    .dataframe thead th {\n",
       "        text-align: right;\n",
       "    }\n",
       "</style>\n",
       "<table border=\"1\" class=\"dataframe\">\n",
       "  <thead>\n",
       "    <tr style=\"text-align: right;\">\n",
       "      <th></th>\n",
       "      <th>sex</th>\n",
       "      <th>smoker</th>\n",
       "      <th>day</th>\n",
       "      <th>time</th>\n",
       "    </tr>\n",
       "  </thead>\n",
       "  <tbody>\n",
       "    <tr>\n",
       "      <th>0</th>\n",
       "      <td>Female</td>\n",
       "      <td>No</td>\n",
       "      <td>Sun</td>\n",
       "      <td>Dinner</td>\n",
       "    </tr>\n",
       "    <tr>\n",
       "      <th>1</th>\n",
       "      <td>Male</td>\n",
       "      <td>No</td>\n",
       "      <td>Sun</td>\n",
       "      <td>Dinner</td>\n",
       "    </tr>\n",
       "    <tr>\n",
       "      <th>2</th>\n",
       "      <td>Male</td>\n",
       "      <td>No</td>\n",
       "      <td>Sun</td>\n",
       "      <td>Dinner</td>\n",
       "    </tr>\n",
       "    <tr>\n",
       "      <th>3</th>\n",
       "      <td>Male</td>\n",
       "      <td>No</td>\n",
       "      <td>Sun</td>\n",
       "      <td>Dinner</td>\n",
       "    </tr>\n",
       "    <tr>\n",
       "      <th>4</th>\n",
       "      <td>Female</td>\n",
       "      <td>No</td>\n",
       "      <td>Sun</td>\n",
       "      <td>Dinner</td>\n",
       "    </tr>\n",
       "  </tbody>\n",
       "</table>\n",
       "</div>"
      ],
      "text/plain": [
       "      sex smoker  day    time\n",
       "0  Female     No  Sun  Dinner\n",
       "1    Male     No  Sun  Dinner\n",
       "2    Male     No  Sun  Dinner\n",
       "3    Male     No  Sun  Dinner\n",
       "4  Female     No  Sun  Dinner"
      ]
     },
     "execution_count": 53,
     "metadata": {},
     "output_type": "execute_result"
    }
   ],
   "source": [
    "tips.drop(['tip', 'total_bill', 'size'], axis=1).head()"
   ]
  },
  {
   "cell_type": "code",
   "execution_count": 54,
   "metadata": {},
   "outputs": [],
   "source": [
    "# Numeric columns and associated transformers\n",
    "num_feat = ['total_bill', 'size']\n",
    "num_transformer = Pipeline(steps=[\n",
    "    ('scaler', pp.StandardScaler())   # z-scale\n",
    "])\n",
    "\n",
    "# Categorical columns and associated transformers\n",
    "cat_feat = ['sex', 'smoker', 'day', 'time']\n",
    "cat_transformer = Pipeline(steps=[\n",
    "    ('onehot', pp.OneHotEncoder())     # output from Ordinal becomes input to OneHot\n",
    "])\n",
    "\n",
    "# preprocessing pipeline (put them together)\n",
    "preproc = ColumnTransformer(\n",
    "    transformers=[\n",
    "        ('num', num_transformer, num_feat),\n",
    "        ('cat', cat_transformer, cat_feat)\n",
    "    ])\n",
    "\n",
    "pl = Pipeline(steps=[('preprocessor', preproc), ('regressor', LinearRegression())])"
   ]
  },
  {
   "cell_type": "code",
   "execution_count": 55,
   "metadata": {},
   "outputs": [
    {
     "data": {
      "text/plain": [
       "Pipeline(steps=[('preprocessor',\n",
       "                 ColumnTransformer(transformers=[('num',\n",
       "                                                  Pipeline(steps=[('scaler',\n",
       "                                                                   StandardScaler())]),\n",
       "                                                  ['total_bill', 'size']),\n",
       "                                                 ('cat',\n",
       "                                                  Pipeline(steps=[('onehot',\n",
       "                                                                   OneHotEncoder())]),\n",
       "                                                  ['sex', 'smoker', 'day',\n",
       "                                                   'time'])])),\n",
       "                ('regressor', LinearRegression())])"
      ]
     },
     "execution_count": 55,
     "metadata": {},
     "output_type": "execute_result"
    }
   ],
   "source": [
    "pl.fit(tips.drop('tip', axis=1), tips.tip)"
   ]
  },
  {
   "cell_type": "code",
   "execution_count": 56,
   "metadata": {},
   "outputs": [
    {
     "data": {
      "text/plain": [
       "array([2.73565486, 2.25086733, 3.25904369, 3.33533199, 3.80574011,\n",
       "       3.83944008, 1.92653073, 3.98967441, 2.51896426, 2.49439764])"
      ]
     },
     "execution_count": 56,
     "metadata": {},
     "output_type": "execute_result"
    }
   ],
   "source": [
    "preds = pl.predict(tips.drop('tip', axis=1))\n",
    "preds[:10]"
   ]
  },
  {
   "cell_type": "code",
   "execution_count": 57,
   "metadata": {},
   "outputs": [
    {
     "data": {
      "text/plain": [
       "1.0051634500049158"
      ]
     },
     "execution_count": 57,
     "metadata": {},
     "output_type": "execute_result"
    }
   ],
   "source": [
    "np.sqrt(np.mean((preds - tips.tip)**2))"
   ]
  },
  {
   "cell_type": "code",
   "execution_count": 58,
   "metadata": {},
   "outputs": [
    {
     "data": {
      "text/plain": [
       "0.47007812322060794"
      ]
     },
     "execution_count": 58,
     "metadata": {},
     "output_type": "execute_result"
    }
   ],
   "source": [
    "pl.score(tips.drop('tip', axis=1), tips.tip)"
   ]
  },
  {
   "cell_type": "code",
   "execution_count": 60,
   "metadata": {},
   "outputs": [
    {
     "data": {
      "image/png": "[encoded data removed]",
      "text/plain": [
       "<Figure size 500x500 with 1 Axes>"
      ]
     },
     "metadata": {},
     "output_type": "display_data"
    }
   ],
   "source": [
    "sns.lmplot(data=tips, x='total_bill', y='tip');"
   ]
  },
  {
   "cell_type": "markdown",
   "metadata": {},
   "source": [
    "## Train Test Split Pipeline"
   ]
  },
  {
   "cell_type": "code",
   "execution_count": 93,
   "metadata": {},
   "outputs": [
    {
     "name": "stdout",
     "output_type": "stream",
     "text": [
      "train RMSE: 0.977726307648412\n",
      "test RMSE: 1.0942004254791775\n"
     ]
    }
   ],
   "source": [
    "from sklearn.model_selection import train_test_split \n",
    "\n",
    "X = tips.drop(['tip', 'sex', 'smoker', 'day', 'time' ], axis=1)\n",
    "y = tips.tip\n",
    "\n",
    "X_train, X_test, y_train, y_test = train_test_split(X, y, test_size=0.25)\n",
    "\n",
    "\n",
    "pl = Pipeline([\n",
    "   ('lin-reg', LinearRegression())\n",
    "])\n",
    "\n",
    "pl.fit(X_train, y_train)\n",
    "\n",
    "# performance on training data\n",
    "pred_train = pl.predict(X_train)\n",
    "rmse_train = np.sqrt(np.mean((pred_train - y_train)**2))\n",
    "\n",
    "# performance on test data -- what we really care about\n",
    "pred_test = pl.predict(X_test)\n",
    "rmse_test = np.sqrt(np.mean((pred_test - y_test)**2))\n",
    "\n",
    "print (\"train RMSE: %s\" % rmse_train)\n",
    "print (\"test RMSE: %s\" % rmse_test)"
   ]
  }
 ],
 "metadata": {
  "celltoolbar": "Slideshow",
  "kernelspec": {
   "display_name": "Python 3",
   "language": "python",
   "name": "python3"
  },
  "language_info": {
   "codemirror_mode": {
    "name": "ipython",
    "version": 3
   },
   "file_extension": ".py",
   "mimetype": "text/x-python",
   "name": "python",
   "nbconvert_exporter": "python",
   "pygments_lexer": "ipython3",
   "version": "3.8.5"
  },
  "livereveal": {
   "scroll": true,
   "transition": "none"
  }
 },
 "nbformat": 4,
 "nbformat_minor": 2
}
