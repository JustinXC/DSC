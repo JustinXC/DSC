{
 "cells": [
  {
   "cell_type": "markdown",
   "metadata": {},
   "source": [
    "# NYPD Allegations"
   ]
  },
  {
   "cell_type": "markdown",
   "metadata": {},
   "source": [
    "# Summary of Findings\n",
    "\n",
    "\n",
    "### Introduction & Data Cleaning\n",
    "In this project, I attempted to build a model that would predict whether or not a filed complaint would be successful (successful meaning the complaint was substantiated). Before delving into building the model, I had to clean my data. The first step in cleaning this dataset is to remove unnecessary columns. More specifically, columns that wouldn't pertain to/be useful in exploring my question. I removed over half of the columns that I felt were unnecessary then moved to exploring the data types of the dataset. The first column I noticed with an odd data type was the \"complainant_age_incident\" column which was a float rather than an integar. I discovered that this column contained negative values: a huge outlier at -4301.0 and many -1.0's. Ages should be whole positive numbers so these values were definitely a mistake (there could have been a bug in the system when the complainant inputted the numbers). Nevertheless, I converted these values to NaN. I did the same exploration with other columns and didn't find anything that out-of-place.\n",
    "\n",
    "I also looked for \"missing\" data that weren't labeled as missing and found many instances of these in more than one column. In the complainant columns, the columns I would be later using, had this error. In the \"complainant_ethnicity\", there were \"Unknown\" and \"Refused\" values which can both be umbrellaed as NaN values since they're really just missing values now. In the \"complainant_gender\", there was a value \"Not described\", which is essentially NaN as well. I replaced all these values with NaN's.\n",
    "\n",
    "One important data cleaning step that would later be very helpful in exploring my question (and also mentioned in the instructions) was to combine the date columns, specifically \"month_received\", \"year_received\", \"month_closed\", and \"year_closed\". I added 2 new columns -- \"date_received\" and \"date_closed\". These two columns would make it easier to compare dates for time-series exploration. However, since only the month and year was provided and not the day, all the entries would have days at 1.\n",
    "-  |  7  |  2019  |  -->  |  7-01-2019  |\n",
    "\n",
    "Lastly, I created two extra columns that I would use later - \"complaint_length\" (in days) and \"complaint_successful\". For the \"complaint_length\" column, I used the datetime columns I made earlier to find how long, in days, the complaint took to be resolved / closed. It's important to mention, though, that because all the days are at the beginning of the month, the actual complaint length would be different. The \"complaint_length\" is thus a close enough appoximation. The \"complaint_successful\" column is essentially a boolean column that concludes whether or not the complaint was successfully resolved (substantiated) or not (unsubstantiated). This column is important since the \"board_disposition\" column can really be broken down to a boolean (success/fail) column and would make the hypothesis testing much easier.\n",
    "\n",
    "These columns I kept were: **mos_ethnicity, mos_gender, mos_age_incident, complaintant_ethnicity, complainant_gender, complaintant_age_incident, complaint_successful, fado_type, and precinct**. The numeric columns are the ages and precinct columns while the rest are categorical (not including the predicted complaint_successful column).\n",
    "\n",
    "Since I'm trying to make predictions on the complaint_successful column, I decided to use a classifier instead of a regressor, more specifically a Decision Tree Classifier. The target variable will be thus be whether or not a complaint is successful, denoted by 1 (successful) or 0 (unsuccessful). The evaluation metric will also be R2, a score that represents the accuracy of the model where a number closer to 1 means a higher accuracy.\n",
    "\n",
    "### Baseline Model\n",
    "For my baseline model, I used 6 columns -- **mos_ethnicity, mos_gender, mos_age_incident, complaintant_ethnicity, complainant_gender, complaintant_age_incident, complaint_successful, fado_type, and precinct**. The quantative columns are mos_age_incident,  complaintant_age_incident, and precinct. The nominal columns are mos_ethnicity, mos_gender, complaintant_ethnicity, complainant_gender, and fado_type. There are no ordinal columns among the columns I chose. Again, I used a Decision Tree Regressor and I first split my data into training and testing sets with a 80/20 split. In order to use all the features I chose, I had to preprocess the data using one hot encoding and standard scaling for the quantative and nominal columns. After adding these transformations into a pipeline, I fit my data and got the following scores:\n",
    "- training score: 0.92\n",
    "- testing score: 0.61\n",
    "\n",
    "As expected, the training score is larger than the testing score which can be due to a variety of reasons. I might need to change the number of features (increase or decrease) or find better parameters for the Decision Tree Classifier such as max_depth, min_samples_leaf, and min_samples_split, all which can solve the possible overfitting of the training data. This, I explored in building the final model.\n",
    "\n",
    "### Final Model\n",
    "The first thing I explored was finding better parameters to use for max_depth, min_samples_leaf, and min_samples_split. To do this, I defined some parameters and used GridSearchCV to test different parameter values efficiently. While this can be done manually, it's time-consuming and I can simply use sklearn's GridSearch to do this. More specifically, the number of parameters for max_depth, min_samples_leaf, and min_samples_split are 10, 7, 7, respectively. This comes out to 10*7*7 = 490 calculations per fitting for a 5 cross-validation fold. I can use GridSearchCV(DecisionTreeClassifier, parameters, cv = 5) to do this in one line. I then fit my data to the classifier using the same preprocessing and column transformers in my baseline model. The best parameters were:\n",
    "- max_depth: 2\n",
    "- min_samples_leaf: 20\n",
    "- min_samples_split: 2\n",
    "\n",
    "Using the best performing parameters, I received the following scores:\n",
    "- training score: 0.60\n",
    "- testing score: 0.62\n",
    "\n",
    "I'm surprised at my results because they're very similar to my initial scores from my baseline model. I was expecting that, with the best parameters, my final model would be much more robust and accurate. I did notice that the training score went down which could point to less overfitting in this final model, but the testing score is essentially the same still. A possible guess is that this final model would perform better with more unknown data since it's not overfitting like the baseline model.\n",
    "\n",
    "I also attempted to use different features. I removed the mos related columns such as mos_gender, mos_ethnicity, and mos_age_incident columns and only kept the complaintant columns. With these features, the scores were essentially the same as well so I decided to keep all features in my final model. \n",
    "\n",
    "### Fairness Evaluation\n",
    "For my fairnesss evaluation, I decided to evaluate the fairness in the mos_gender column, especially since there's only two unique values in that column (M, F). For my parity measure, I also used the accuracy between the two groups. To evaluate fairness, I need a permutation test with the following H0 and H1:\n",
    "\n",
    "- Null Hypothesis: My final model is fair and the accuracy for the two groups are essentially the same or negligible. \n",
    "- Alternative Hypothesis: My final model is unfair and the accuracy for the female MOS group is higher than the male MOS group.\n",
    "\n",
    "To compare with my observed value, I ran a permutation test that resampled the mos_gender column N times with the predictions from my final model classifier.  I ran permutation test 100 times to receive 100 test stats and compared to the observed value to receive a p-value of essentially 0.17. Further plotting this p-value to the test stats and with a significance level of 0.05 shows that it not statistically significant and indicates strong evidence for the null hypothesis. We can't accept the null but we can fail to reject it. \n",
    "\n"
   ]
  },
  {
   "cell_type": "markdown",
   "metadata": {},
   "source": [
    "# Code"
   ]
  },
  {
   "cell_type": "code",
   "execution_count": 55,
   "metadata": {},
   "outputs": [],
   "source": [
    "import matplotlib.pyplot as plt\n",
    "import numpy as np\n",
    "import os\n",
    "import pandas as pd\n",
    "import seaborn as sns\n",
    "%matplotlib inline\n",
    "%config InlineBackend.figure_format = 'retina'  # Higher resolution figures\n",
    "\n",
    "from sklearn.tree import DecisionTreeRegressor, DecisionTreeClassifier\n",
    "from sklearn.preprocessing import OneHotEncoder\n",
    "from sklearn.pipeline import Pipeline\n",
    "from sklearn.compose import ColumnTransformer\n",
    "from sklearn.model_selection import train_test_split\n",
    "from sklearn.model_selection import GridSearchCV\n",
    "from sklearn import preprocessing as pp\n",
    "from sklearn import metrics\n"
   ]
  },
  {
   "cell_type": "markdown",
   "metadata": {},
   "source": [
    "### Baseline Model"
   ]
  },
  {
   "cell_type": "code",
   "execution_count": 56,
   "metadata": {},
   "outputs": [
    {
     "data": {
      "text/html": [
       "<div>\n",
       "<style scoped>\n",
       "    .dataframe tbody tr th:only-of-type {\n",
       "        vertical-align: middle;\n",
       "    }\n",
       "\n",
       "    .dataframe tbody tr th {\n",
       "        vertical-align: top;\n",
       "    }\n",
       "\n",
       "    .dataframe thead th {\n",
       "        text-align: right;\n",
       "    }\n",
       "</style>\n",
       "<table border=\"1\" class=\"dataframe\">\n",
       "  <thead>\n",
       "    <tr style=\"text-align: right;\">\n",
       "      <th></th>\n",
       "      <th>unique_mos_id</th>\n",
       "      <th>complaint_id</th>\n",
       "      <th>month_received</th>\n",
       "      <th>year_received</th>\n",
       "      <th>month_closed</th>\n",
       "      <th>year_closed</th>\n",
       "      <th>rank_now</th>\n",
       "      <th>mos_ethnicity</th>\n",
       "      <th>mos_gender</th>\n",
       "      <th>mos_age_incident</th>\n",
       "      <th>...</th>\n",
       "      <th>complainant_age_incident</th>\n",
       "      <th>fado_type</th>\n",
       "      <th>allegation</th>\n",
       "      <th>precinct</th>\n",
       "      <th>contact_reason</th>\n",
       "      <th>board_disposition</th>\n",
       "      <th>date_received</th>\n",
       "      <th>date_closed</th>\n",
       "      <th>complaint_successful</th>\n",
       "      <th>complaint_length</th>\n",
       "    </tr>\n",
       "  </thead>\n",
       "  <tbody>\n",
       "    <tr>\n",
       "      <th>0</th>\n",
       "      <td>10004</td>\n",
       "      <td>42835</td>\n",
       "      <td>7</td>\n",
       "      <td>2019</td>\n",
       "      <td>5</td>\n",
       "      <td>2020</td>\n",
       "      <td>Police Officer</td>\n",
       "      <td>Hispanic</td>\n",
       "      <td>M</td>\n",
       "      <td>32</td>\n",
       "      <td>...</td>\n",
       "      <td>38.0</td>\n",
       "      <td>Abuse of Authority</td>\n",
       "      <td>Failure to provide RTKA card</td>\n",
       "      <td>78.0</td>\n",
       "      <td>Report-domestic dispute</td>\n",
       "      <td>Substantiated (Command Lvl Instructions)</td>\n",
       "      <td>2019-07-01</td>\n",
       "      <td>2020-05-01</td>\n",
       "      <td>1.0</td>\n",
       "      <td>10.020740</td>\n",
       "    </tr>\n",
       "    <tr>\n",
       "      <th>1</th>\n",
       "      <td>10007</td>\n",
       "      <td>24601</td>\n",
       "      <td>11</td>\n",
       "      <td>2011</td>\n",
       "      <td>8</td>\n",
       "      <td>2012</td>\n",
       "      <td>Police Officer</td>\n",
       "      <td>White</td>\n",
       "      <td>M</td>\n",
       "      <td>24</td>\n",
       "      <td>...</td>\n",
       "      <td>26.0</td>\n",
       "      <td>Discourtesy</td>\n",
       "      <td>Action</td>\n",
       "      <td>67.0</td>\n",
       "      <td>Moving violation</td>\n",
       "      <td>Substantiated (Charges)</td>\n",
       "      <td>2011-11-01</td>\n",
       "      <td>2012-08-01</td>\n",
       "      <td>1.0</td>\n",
       "      <td>9.002238</td>\n",
       "    </tr>\n",
       "    <tr>\n",
       "      <th>2</th>\n",
       "      <td>10007</td>\n",
       "      <td>24601</td>\n",
       "      <td>11</td>\n",
       "      <td>2011</td>\n",
       "      <td>8</td>\n",
       "      <td>2012</td>\n",
       "      <td>Police Officer</td>\n",
       "      <td>White</td>\n",
       "      <td>M</td>\n",
       "      <td>24</td>\n",
       "      <td>...</td>\n",
       "      <td>26.0</td>\n",
       "      <td>Offensive Language</td>\n",
       "      <td>Race</td>\n",
       "      <td>67.0</td>\n",
       "      <td>Moving violation</td>\n",
       "      <td>Substantiated (Charges)</td>\n",
       "      <td>2011-11-01</td>\n",
       "      <td>2012-08-01</td>\n",
       "      <td>1.0</td>\n",
       "      <td>9.002238</td>\n",
       "    </tr>\n",
       "    <tr>\n",
       "      <th>3</th>\n",
       "      <td>10007</td>\n",
       "      <td>26146</td>\n",
       "      <td>7</td>\n",
       "      <td>2012</td>\n",
       "      <td>9</td>\n",
       "      <td>2013</td>\n",
       "      <td>Police Officer</td>\n",
       "      <td>White</td>\n",
       "      <td>M</td>\n",
       "      <td>25</td>\n",
       "      <td>...</td>\n",
       "      <td>45.0</td>\n",
       "      <td>Abuse of Authority</td>\n",
       "      <td>Question</td>\n",
       "      <td>67.0</td>\n",
       "      <td>PD suspected C/V of violation/crime - street</td>\n",
       "      <td>Substantiated (Charges)</td>\n",
       "      <td>2012-07-01</td>\n",
       "      <td>2013-09-01</td>\n",
       "      <td>1.0</td>\n",
       "      <td>14.029036</td>\n",
       "    </tr>\n",
       "    <tr>\n",
       "      <th>4</th>\n",
       "      <td>10009</td>\n",
       "      <td>40253</td>\n",
       "      <td>8</td>\n",
       "      <td>2018</td>\n",
       "      <td>2</td>\n",
       "      <td>2019</td>\n",
       "      <td>Police Officer</td>\n",
       "      <td>Hispanic</td>\n",
       "      <td>F</td>\n",
       "      <td>39</td>\n",
       "      <td>...</td>\n",
       "      <td>16.0</td>\n",
       "      <td>Force</td>\n",
       "      <td>Physical force</td>\n",
       "      <td>67.0</td>\n",
       "      <td>Report-dispute</td>\n",
       "      <td>Substantiated (Command Discipline A)</td>\n",
       "      <td>2018-08-01</td>\n",
       "      <td>2019-02-01</td>\n",
       "      <td>1.0</td>\n",
       "      <td>6.045299</td>\n",
       "    </tr>\n",
       "  </tbody>\n",
       "</table>\n",
       "<p>5 rows × 22 columns</p>\n",
       "</div>"
      ],
      "text/plain": [
       "   unique_mos_id  complaint_id  month_received  year_received  month_closed  \\\n",
       "0          10004         42835               7           2019             5   \n",
       "1          10007         24601              11           2011             8   \n",
       "2          10007         24601              11           2011             8   \n",
       "3          10007         26146               7           2012             9   \n",
       "4          10009         40253               8           2018             2   \n",
       "\n",
       "   year_closed        rank_now mos_ethnicity mos_gender  mos_age_incident  \\\n",
       "0         2020  Police Officer      Hispanic          M                32   \n",
       "1         2012  Police Officer         White          M                24   \n",
       "2         2012  Police Officer         White          M                24   \n",
       "3         2013  Police Officer         White          M                25   \n",
       "4         2019  Police Officer      Hispanic          F                39   \n",
       "\n",
       "   ... complainant_age_incident           fado_type  \\\n",
       "0  ...                     38.0  Abuse of Authority   \n",
       "1  ...                     26.0         Discourtesy   \n",
       "2  ...                     26.0  Offensive Language   \n",
       "3  ...                     45.0  Abuse of Authority   \n",
       "4  ...                     16.0               Force   \n",
       "\n",
       "                     allegation precinct  \\\n",
       "0  Failure to provide RTKA card     78.0   \n",
       "1                        Action     67.0   \n",
       "2                          Race     67.0   \n",
       "3                      Question     67.0   \n",
       "4                Physical force     67.0   \n",
       "\n",
       "                                 contact_reason  \\\n",
       "0                       Report-domestic dispute   \n",
       "1                              Moving violation   \n",
       "2                              Moving violation   \n",
       "3  PD suspected C/V of violation/crime - street   \n",
       "4                                Report-dispute   \n",
       "\n",
       "                          board_disposition date_received date_closed  \\\n",
       "0  Substantiated (Command Lvl Instructions)    2019-07-01  2020-05-01   \n",
       "1                   Substantiated (Charges)    2011-11-01  2012-08-01   \n",
       "2                   Substantiated (Charges)    2011-11-01  2012-08-01   \n",
       "3                   Substantiated (Charges)    2012-07-01  2013-09-01   \n",
       "4      Substantiated (Command Discipline A)    2018-08-01  2019-02-01   \n",
       "\n",
       "  complaint_successful complaint_length  \n",
       "0                  1.0        10.020740  \n",
       "1                  1.0         9.002238  \n",
       "2                  1.0         9.002238  \n",
       "3                  1.0        14.029036  \n",
       "4                  1.0         6.045299  \n",
       "\n",
       "[5 rows x 22 columns]"
      ]
     },
     "execution_count": 56,
     "metadata": {},
     "output_type": "execute_result"
    }
   ],
   "source": [
    "# Reapply data cleaning from Project 3\n",
    "fp = os.path.join('data', 'allegations_202007271729.csv')\n",
    "df = pd.read_csv(fp)\n",
    "\n",
    "remove_cols = ['first_name', 'last_name', 'command_now', 'shield_no',\n",
    " 'command_at_incident', 'rank_abbrev_incident', 'rank_abbrev_now',\n",
    " 'rank_abbrev_now', 'rank_incident', 'outcome_description']\n",
    "\n",
    "df = df.drop(columns = remove_cols)\n",
    "\n",
    "df['complainant_age_incident'] = df['complainant_age_incident'].apply(lambda x: x if x > 0 else np.NaN)\n",
    "df['complainant_ethnicity'] = df['complainant_ethnicity'].replace({'Unknown': np.NaN, 'Refused': np.NaN})\n",
    "df['complainant_gender'] = df['complainant_gender'].replace('Not described', np.NaN)\n",
    "df['date_received'] = (df['month_received'].astype(str) + '-' + df['year_received'].astype(str)).apply(pd.to_datetime)\n",
    "df['date_closed'] = (df['month_closed'].astype(str) + '-' + df['year_closed'].astype(str)).apply(pd.to_datetime)\n",
    "\n",
    "def complaint_helper(disposition):\n",
    "    if disposition == 'Unsubstantiated':\n",
    "        return 0.0\n",
    "    else:\n",
    "        return 1.0\n",
    "\n",
    "df['complaint_successful'] = df['board_disposition'].apply(complaint_helper)\n",
    "df['complaint_length'] = (df['date_closed'] - df['date_received']) / np.timedelta64(1, 'M')\n",
    "\n",
    "df.head()"
   ]
  },
  {
   "cell_type": "code",
   "execution_count": 57,
   "metadata": {},
   "outputs": [],
   "source": [
    "# Delete more columns and keep relevant features for model\n",
    "df = df.drop(columns = ['unique_mos_id', 'complaint_id', 'month_received', \n",
    "                        'year_received', 'month_closed', 'year_closed', 'rank_now',\n",
    "                        'allegation', 'contact_reason', 'board_disposition',\n",
    "                        'date_received', 'date_closed', 'complaint_length']\n",
    "                        ).reset_index(drop = True).dropna()\n",
    "\n",
    "df['complainant_age_incident'] = df['complainant_age_incident'].astype(int)"
   ]
  },
  {
   "cell_type": "code",
   "execution_count": 58,
   "metadata": {},
   "outputs": [],
   "source": [
    "# DecisionTreeRegressor\n",
    "\n",
    "X = df.drop('complaint_successful', axis=1)\n",
    "y = df['complaint_successful']\n",
    "\n",
    "# split dataset into training and test\n",
    "X_train, X_test, y_train, y_test = train_test_split(X, y, test_size = 0.2)"
   ]
  },
  {
   "cell_type": "code",
   "execution_count": 90,
   "metadata": {},
   "outputs": [
    {
     "data": {
      "text/plain": [
       "Pipeline(steps=[('preprocess',\n",
       "                 ColumnTransformer(remainder='passthrough',\n",
       "                                   transformers=[('one_hot',\n",
       "                                                  OneHotEncoder(drop='first'),\n",
       "                                                  ['mos_ethnicity',\n",
       "                                                   'mos_gender',\n",
       "                                                   'complainant_ethnicity',\n",
       "                                                   'complainant_gender',\n",
       "                                                   'fado_type']),\n",
       "                                                 ('standardize',\n",
       "                                                  StandardScaler(),\n",
       "                                                  ['mos_age_incident',\n",
       "                                                   'complainant_age_incident',\n",
       "                                                   'precinct'])])),\n",
       "                ('DecisionTreeClassifier', DecisionTreeClassifier())])"
      ]
     },
     "execution_count": 90,
     "metadata": {},
     "output_type": "execute_result"
    }
   ],
   "source": [
    "preprocessing = ColumnTransformer(transformers=[\n",
    "            ('one_hot', OneHotEncoder(drop = 'first'),\n",
    "            ['mos_ethnicity', 'mos_gender', 'complainant_ethnicity', 'complainant_gender', 'fado_type']), \n",
    "            ('standardize', pp.StandardScaler(), ['mos_age_incident', 'complainant_age_incident', 'precinct'])\n",
    "            ], remainder= 'passthrough')  \n",
    "\n",
    "pl = Pipeline([('preprocess', preprocessing),\n",
    "            ('DecisionTreeClassifier', DecisionTreeClassifier())])\n",
    "\n",
    "pl.fit(X_train, y_train)"
   ]
  },
  {
   "cell_type": "code",
   "execution_count": 91,
   "metadata": {},
   "outputs": [
    {
     "data": {
      "text/plain": [
       "0.9191984188996645"
      ]
     },
     "execution_count": 91,
     "metadata": {},
     "output_type": "execute_result"
    }
   ],
   "source": [
    "pl.score(X_train, y_train)"
   ]
  },
  {
   "cell_type": "code",
   "execution_count": 92,
   "metadata": {},
   "outputs": [
    {
     "data": {
      "text/plain": [
       "0.5998161764705883"
      ]
     },
     "execution_count": 92,
     "metadata": {},
     "output_type": "execute_result"
    }
   ],
   "source": [
    "pl.score(X_test, y_test)"
   ]
  },
  {
   "cell_type": "markdown",
   "metadata": {},
   "source": [
    "### Final Model"
   ]
  },
  {
   "cell_type": "code",
   "execution_count": 62,
   "metadata": {},
   "outputs": [],
   "source": [
    "# We can make the DecisionTreeRegressor more efficient by finding the best parameter to use ... \n",
    "parameters = {\n",
    "    'max_depth': [2,3,4,5,7,10,13,15,18,None],\n",
    "    'min_samples_leaf':[20,30,50,70,90,100],\n",
    "    'min_samples_split':[2,3,5,7,10,15,20]\n",
    "\n",
    "}"
   ]
  },
  {
   "cell_type": "code",
   "execution_count": 63,
   "metadata": {},
   "outputs": [],
   "source": [
    "preprocessing = ColumnTransformer(transformers=[\n",
    "            ('one_hot', OneHotEncoder(drop = 'first'),\n",
    "            ['mos_ethnicity', 'mos_gender', 'complainant_ethnicity', 'complainant_gender', 'fado_type']), \n",
    "            ('standardize', pp.StandardScaler(), ['mos_age_incident', 'complainant_age_incident', 'precinct'])\n",
    "            ], remainder= 'passthrough')  "
   ]
  },
  {
   "cell_type": "code",
   "execution_count": 64,
   "metadata": {},
   "outputs": [
    {
     "data": {
      "text/plain": [
       "GridSearchCV(cv=5, estimator=DecisionTreeClassifier(),\n",
       "             param_grid={'max_depth': [2, 3, 4, 5, 7, 10, 13, 15, 18, None],\n",
       "                         'min_samples_leaf': [20, 30, 50, 70, 90, 100],\n",
       "                         'min_samples_split': [2, 3, 5, 7, 10, 15, 20]})"
      ]
     },
     "execution_count": 64,
     "metadata": {},
     "output_type": "execute_result"
    }
   ],
   "source": [
    "# Can be done manually but using GridSearch is much faster\n",
    "clf = GridSearchCV(DecisionTreeClassifier(), parameters, cv = 5)\n",
    "clf.fit(preprocessing.fit_transform(X_train), y_train)"
   ]
  },
  {
   "cell_type": "code",
   "execution_count": 65,
   "metadata": {},
   "outputs": [
    {
     "data": {
      "text/plain": [
       "{'max_depth': 3, 'min_samples_leaf': 30, 'min_samples_split': 2}"
      ]
     },
     "execution_count": 65,
     "metadata": {},
     "output_type": "execute_result"
    }
   ],
   "source": [
    "clf.best_params_"
   ]
  },
  {
   "cell_type": "code",
   "execution_count": 85,
   "metadata": {},
   "outputs": [
    {
     "data": {
      "text/plain": [
       "Pipeline(steps=[('preprocess',\n",
       "                 ColumnTransformer(remainder='passthrough',\n",
       "                                   transformers=[('one_hot',\n",
       "                                                  OneHotEncoder(drop='first'),\n",
       "                                                  ['mos_ethnicity',\n",
       "                                                   'mos_gender',\n",
       "                                                   'complainant_ethnicity',\n",
       "                                                   'complainant_gender',\n",
       "                                                   'fado_type']),\n",
       "                                                 ('standardize',\n",
       "                                                  StandardScaler(),\n",
       "                                                  ['mos_age_incident',\n",
       "                                                   'complainant_age_incident',\n",
       "                                                   'precinct'])])),\n",
       "                ('DecisionTreeClassifier',\n",
       "                 DecisionTreeClassifier(max_depth=3, min_samples_leaf=30))])"
      ]
     },
     "execution_count": 85,
     "metadata": {},
     "output_type": "execute_result"
    }
   ],
   "source": [
    "preprocessing = ColumnTransformer(transformers=[\n",
    "            ('one_hot', OneHotEncoder(drop = 'first'),\n",
    "            ['mos_ethnicity', 'mos_gender', 'complainant_ethnicity', 'complainant_gender', 'fado_type']), \n",
    "            ('standardize', pp.StandardScaler(), ['mos_age_incident', 'complainant_age_incident', 'precinct'])\n",
    "            ], remainder= 'passthrough') \n",
    "            \n",
    "pl = Pipeline([('preprocess', preprocessing),\n",
    "            ('DecisionTreeClassifier', DecisionTreeClassifier(max_depth = 3,\n",
    "                                                            min_samples_leaf = 30,\n",
    "                                                            min_samples_split = 2))])\n",
    "\n",
    "pl.fit(X_train, y_train)"
   ]
  },
  {
   "cell_type": "code",
   "execution_count": 86,
   "metadata": {},
   "outputs": [
    {
     "data": {
      "text/plain": [
       "0.6067012915383555"
      ]
     },
     "execution_count": 86,
     "metadata": {},
     "output_type": "execute_result"
    }
   ],
   "source": [
    "pl.score(X_train, y_train)"
   ]
  },
  {
   "cell_type": "code",
   "execution_count": 87,
   "metadata": {},
   "outputs": [
    {
     "data": {
      "text/plain": [
       "0.5976102941176471"
      ]
     },
     "execution_count": 87,
     "metadata": {},
     "output_type": "execute_result"
    }
   ],
   "source": [
    "pl.score(X_test, y_test)"
   ]
  },
  {
   "cell_type": "markdown",
   "metadata": {},
   "source": [
    "### Fairness Evaluation"
   ]
  },
  {
   "cell_type": "code",
   "execution_count": 69,
   "metadata": {},
   "outputs": [
    {
     "data": {
      "text/html": [
       "<div>\n",
       "<style scoped>\n",
       "    .dataframe tbody tr th:only-of-type {\n",
       "        vertical-align: middle;\n",
       "    }\n",
       "\n",
       "    .dataframe tbody tr th {\n",
       "        vertical-align: top;\n",
       "    }\n",
       "\n",
       "    .dataframe thead th {\n",
       "        text-align: right;\n",
       "    }\n",
       "</style>\n",
       "<table border=\"1\" class=\"dataframe\">\n",
       "  <thead>\n",
       "    <tr style=\"text-align: right;\">\n",
       "      <th></th>\n",
       "      <th>mos_ethnicity</th>\n",
       "      <th>mos_gender</th>\n",
       "      <th>mos_age_incident</th>\n",
       "      <th>complainant_ethnicity</th>\n",
       "      <th>complainant_gender</th>\n",
       "      <th>complainant_age_incident</th>\n",
       "      <th>fado_type</th>\n",
       "      <th>precinct</th>\n",
       "      <th>preds</th>\n",
       "      <th>actual</th>\n",
       "    </tr>\n",
       "  </thead>\n",
       "  <tbody>\n",
       "    <tr>\n",
       "      <th>3</th>\n",
       "      <td>White</td>\n",
       "      <td>M</td>\n",
       "      <td>25</td>\n",
       "      <td>Black</td>\n",
       "      <td>Male</td>\n",
       "      <td>45</td>\n",
       "      <td>Abuse of Authority</td>\n",
       "      <td>67.0</td>\n",
       "      <td>1.0</td>\n",
       "      <td>1.0</td>\n",
       "    </tr>\n",
       "    <tr>\n",
       "      <th>2426</th>\n",
       "      <td>Hispanic</td>\n",
       "      <td>M</td>\n",
       "      <td>31</td>\n",
       "      <td>Other Race</td>\n",
       "      <td>Male</td>\n",
       "      <td>34</td>\n",
       "      <td>Abuse of Authority</td>\n",
       "      <td>17.0</td>\n",
       "      <td>1.0</td>\n",
       "      <td>1.0</td>\n",
       "    </tr>\n",
       "    <tr>\n",
       "      <th>21087</th>\n",
       "      <td>White</td>\n",
       "      <td>F</td>\n",
       "      <td>29</td>\n",
       "      <td>Hispanic</td>\n",
       "      <td>Male</td>\n",
       "      <td>15</td>\n",
       "      <td>Force</td>\n",
       "      <td>73.0</td>\n",
       "      <td>1.0</td>\n",
       "      <td>1.0</td>\n",
       "    </tr>\n",
       "    <tr>\n",
       "      <th>1904</th>\n",
       "      <td>White</td>\n",
       "      <td>M</td>\n",
       "      <td>28</td>\n",
       "      <td>Other Race</td>\n",
       "      <td>Male</td>\n",
       "      <td>20</td>\n",
       "      <td>Abuse of Authority</td>\n",
       "      <td>101.0</td>\n",
       "      <td>1.0</td>\n",
       "      <td>0.0</td>\n",
       "    </tr>\n",
       "    <tr>\n",
       "      <th>553</th>\n",
       "      <td>White</td>\n",
       "      <td>M</td>\n",
       "      <td>29</td>\n",
       "      <td>Black</td>\n",
       "      <td>Male</td>\n",
       "      <td>29</td>\n",
       "      <td>Force</td>\n",
       "      <td>79.0</td>\n",
       "      <td>1.0</td>\n",
       "      <td>1.0</td>\n",
       "    </tr>\n",
       "    <tr>\n",
       "      <th>...</th>\n",
       "      <td>...</td>\n",
       "      <td>...</td>\n",
       "      <td>...</td>\n",
       "      <td>...</td>\n",
       "      <td>...</td>\n",
       "      <td>...</td>\n",
       "      <td>...</td>\n",
       "      <td>...</td>\n",
       "      <td>...</td>\n",
       "      <td>...</td>\n",
       "    </tr>\n",
       "    <tr>\n",
       "      <th>13451</th>\n",
       "      <td>White</td>\n",
       "      <td>M</td>\n",
       "      <td>34</td>\n",
       "      <td>Black</td>\n",
       "      <td>Male</td>\n",
       "      <td>21</td>\n",
       "      <td>Force</td>\n",
       "      <td>25.0</td>\n",
       "      <td>1.0</td>\n",
       "      <td>0.0</td>\n",
       "    </tr>\n",
       "    <tr>\n",
       "      <th>24854</th>\n",
       "      <td>White</td>\n",
       "      <td>M</td>\n",
       "      <td>25</td>\n",
       "      <td>Black</td>\n",
       "      <td>Male</td>\n",
       "      <td>23</td>\n",
       "      <td>Abuse of Authority</td>\n",
       "      <td>23.0</td>\n",
       "      <td>0.0</td>\n",
       "      <td>0.0</td>\n",
       "    </tr>\n",
       "    <tr>\n",
       "      <th>23577</th>\n",
       "      <td>Hispanic</td>\n",
       "      <td>M</td>\n",
       "      <td>34</td>\n",
       "      <td>Hispanic</td>\n",
       "      <td>Male</td>\n",
       "      <td>34</td>\n",
       "      <td>Abuse of Authority</td>\n",
       "      <td>6.0</td>\n",
       "      <td>1.0</td>\n",
       "      <td>0.0</td>\n",
       "    </tr>\n",
       "    <tr>\n",
       "      <th>27681</th>\n",
       "      <td>White</td>\n",
       "      <td>M</td>\n",
       "      <td>34</td>\n",
       "      <td>Black</td>\n",
       "      <td>Male</td>\n",
       "      <td>25</td>\n",
       "      <td>Discourtesy</td>\n",
       "      <td>44.0</td>\n",
       "      <td>0.0</td>\n",
       "      <td>0.0</td>\n",
       "    </tr>\n",
       "    <tr>\n",
       "      <th>12427</th>\n",
       "      <td>Hispanic</td>\n",
       "      <td>M</td>\n",
       "      <td>31</td>\n",
       "      <td>Hispanic</td>\n",
       "      <td>Male</td>\n",
       "      <td>16</td>\n",
       "      <td>Abuse of Authority</td>\n",
       "      <td>49.0</td>\n",
       "      <td>1.0</td>\n",
       "      <td>0.0</td>\n",
       "    </tr>\n",
       "  </tbody>\n",
       "</table>\n",
       "<p>5440 rows × 10 columns</p>\n",
       "</div>"
      ],
      "text/plain": [
       "      mos_ethnicity mos_gender  mos_age_incident complainant_ethnicity  \\\n",
       "3             White          M                25                 Black   \n",
       "2426       Hispanic          M                31            Other Race   \n",
       "21087         White          F                29              Hispanic   \n",
       "1904          White          M                28            Other Race   \n",
       "553           White          M                29                 Black   \n",
       "...             ...        ...               ...                   ...   \n",
       "13451         White          M                34                 Black   \n",
       "24854         White          M                25                 Black   \n",
       "23577      Hispanic          M                34              Hispanic   \n",
       "27681         White          M                34                 Black   \n",
       "12427      Hispanic          M                31              Hispanic   \n",
       "\n",
       "      complainant_gender  complainant_age_incident           fado_type  \\\n",
       "3                   Male                        45  Abuse of Authority   \n",
       "2426                Male                        34  Abuse of Authority   \n",
       "21087               Male                        15               Force   \n",
       "1904                Male                        20  Abuse of Authority   \n",
       "553                 Male                        29               Force   \n",
       "...                  ...                       ...                 ...   \n",
       "13451               Male                        21               Force   \n",
       "24854               Male                        23  Abuse of Authority   \n",
       "23577               Male                        34  Abuse of Authority   \n",
       "27681               Male                        25         Discourtesy   \n",
       "12427               Male                        16  Abuse of Authority   \n",
       "\n",
       "       precinct  preds  actual  \n",
       "3          67.0    1.0     1.0  \n",
       "2426       17.0    1.0     1.0  \n",
       "21087      73.0    1.0     1.0  \n",
       "1904      101.0    1.0     0.0  \n",
       "553        79.0    1.0     1.0  \n",
       "...         ...    ...     ...  \n",
       "13451      25.0    1.0     0.0  \n",
       "24854      23.0    0.0     0.0  \n",
       "23577       6.0    1.0     0.0  \n",
       "27681      44.0    0.0     0.0  \n",
       "12427      49.0    1.0     0.0  \n",
       "\n",
       "[5440 rows x 10 columns]"
      ]
     },
     "execution_count": 69,
     "metadata": {},
     "output_type": "execute_result"
    }
   ],
   "source": [
    "preds = pl.predict(X_test)\n",
    "\n",
    "X_tst = X_test.copy()\n",
    "X_tst['preds'] = preds\n",
    "X_tst['actual'] = y_test\n",
    "X_tst"
   ]
  },
  {
   "cell_type": "code",
   "execution_count": 70,
   "metadata": {},
   "outputs": [
    {
     "data": {
      "text/html": [
       "<div>\n",
       "<style scoped>\n",
       "    .dataframe tbody tr th:only-of-type {\n",
       "        vertical-align: middle;\n",
       "    }\n",
       "\n",
       "    .dataframe tbody tr th {\n",
       "        vertical-align: top;\n",
       "    }\n",
       "\n",
       "    .dataframe thead th {\n",
       "        text-align: right;\n",
       "    }\n",
       "</style>\n",
       "<table border=\"1\" class=\"dataframe\">\n",
       "  <thead>\n",
       "    <tr style=\"text-align: right;\">\n",
       "      <th></th>\n",
       "      <th>accuracy</th>\n",
       "    </tr>\n",
       "    <tr>\n",
       "      <th>mos_gender</th>\n",
       "      <th></th>\n",
       "    </tr>\n",
       "  </thead>\n",
       "  <tbody>\n",
       "    <tr>\n",
       "      <th>F</th>\n",
       "      <td>0.628834</td>\n",
       "    </tr>\n",
       "    <tr>\n",
       "      <th>M</th>\n",
       "      <td>0.594447</td>\n",
       "    </tr>\n",
       "  </tbody>\n",
       "</table>\n",
       "</div>"
      ],
      "text/plain": [
       "            accuracy\n",
       "mos_gender          \n",
       "F           0.628834\n",
       "M           0.594447"
      ]
     },
     "execution_count": 70,
     "metadata": {},
     "output_type": "execute_result"
    }
   ],
   "source": [
    "# Accuracy Parity\n",
    "(\n",
    "    X_tst\n",
    "    .groupby('mos_gender')\n",
    "    .apply(lambda x: metrics.accuracy_score(x.actual, x.preds))\n",
    "    .rename('accuracy')\n",
    "    .to_frame()\n",
    ")"
   ]
  },
  {
   "cell_type": "code",
   "execution_count": 71,
   "metadata": {},
   "outputs": [
    {
     "data": {
      "text/plain": [
       "-0.03438773869877232"
      ]
     },
     "execution_count": 71,
     "metadata": {},
     "output_type": "execute_result"
    }
   ],
   "source": [
    "obs = X_tst.groupby('mos_gender').apply(lambda x: metrics.accuracy_score(x.actual, x.preds)).diff().iloc[-1]\n",
    "obs"
   ]
  },
  {
   "cell_type": "code",
   "execution_count": 72,
   "metadata": {},
   "outputs": [
    {
     "data": {
      "text/plain": [
       "[-0.06000000000000005,\n",
       " -0.16224744608399544,\n",
       " 0.03315412186379929,\n",
       " 0.05929209919261824,\n",
       " 0.029698302954116906,\n",
       " 0.06814709539882746,\n",
       " 0.07213142446893872,\n",
       " -0.05197132616487454,\n",
       " -0.06149898927071995,\n",
       " 0.038978185993111314]"
      ]
     },
     "execution_count": 72,
     "metadata": {},
     "output_type": "execute_result"
    }
   ],
   "source": [
    "test_stats = []\n",
    "for i in range(100):\n",
    "    s = (\n",
    "        X_tst[['mos_gender', 'preds', 'actual']]\n",
    "        .assign(mos_gender=X_tst.mos_gender.sample(frac=1.0, replace=False).reset_index(drop=True))\n",
    "        .groupby('mos_gender')\n",
    "        .apply(lambda x: metrics.accuracy_score(x.actual, x.preds))\n",
    "        .diff()\n",
    "        .iloc[-1]\n",
    "    )\n",
    "    \n",
    "    test_stats.append(s)\n",
    "test_stats[:10]"
   ]
  },
  {
   "cell_type": "code",
   "execution_count": 73,
   "metadata": {},
   "outputs": [
    {
     "data": {
      "text/plain": [
       "0.26"
      ]
     },
     "execution_count": 73,
     "metadata": {},
     "output_type": "execute_result"
    }
   ],
   "source": [
    "(test_stats < obs).mean()"
   ]
  },
  {
   "cell_type": "code",
   "execution_count": 74,
   "metadata": {},
   "outputs": [
    {
     "data": {
      "image/png": "[encoded data removed]",
      "text/plain": [
       "<Figure size 432x288 with 1 Axes>"
      ]
     },
     "metadata": {
      "image/png": {
       "height": 248,
       "width": 362
      },
      "needs_background": "light"
     },
     "output_type": "display_data"
    }
   ],
   "source": [
    "p_val_hist = plt.hist(test_stats, density=True)\n",
    "plt.axvline(x = obs, color = 'red')\n",
    "plt.show()"
   ]
  }
 ],
 "metadata": {
  "kernelspec": {
   "display_name": "Python 3",
   "language": "python",
   "name": "python3"
  },
  "language_info": {
   "codemirror_mode": {
    "name": "ipython",
    "version": 3
   },
   "file_extension": ".py",
   "mimetype": "text/x-python",
   "name": "python",
   "nbconvert_exporter": "python",
   "pygments_lexer": "ipython3",
   "version": "3.8.5"
  }
 },
 "nbformat": 4,
 "nbformat_minor": 2
}
